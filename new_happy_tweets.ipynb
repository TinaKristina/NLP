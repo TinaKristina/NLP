{
  "nbformat": 4,
  "nbformat_minor": 0,
  "metadata": {
    "colab": {
      "name": "new_happy_tweets.ipynb",
      "provenance": []
    },
    "kernelspec": {
      "name": "python3",
      "display_name": "Python 3"
    }
  },
  "cells": [
    {
      "cell_type": "markdown",
      "metadata": {
        "id": "W6dwXkaH5YeW"
      },
      "source": [
        "Za Text Mining analizu, skinut je mini twitter dataset sa websajta \r\n",
        "\r\n",
        "https://www.trackmyhashtag.com\r\n",
        "\r\n",
        "isfiltriran hastagom #happiness, koji ce nam dati uvid u kom procentu je prisutan hashtag HAPPINESS odnosno postavljamo PITANJE: DA LI SE REC SRECA VEZUJE ZA EKONOMIJU(GDP) tj. NOVAC?!\r\n",
        "\r\n",
        "**2076 *** Money cannot buy HAPPINESS***jedna od tweet poruka iz seta***"
      ]
    },
    {
      "cell_type": "code",
      "metadata": {
        "colab": {
          "base_uri": "https://localhost:8080/"
        },
        "id": "UQcRVLNaax0T",
        "outputId": "0408ee09-7902-4be0-9b3e-5367414a1bfb"
      },
      "source": [
        "from google.colab import drive\r\n",
        "drive.mount('/content/drive')\r\n"
      ],
      "execution_count": null,
      "outputs": [
        {
          "output_type": "stream",
          "text": [
            "Drive already mounted at /content/drive; to attempt to forcibly remount, call drive.mount(\"/content/drive\", force_remount=True).\n"
          ],
          "name": "stdout"
        }
      ]
    },
    {
      "cell_type": "markdown",
      "metadata": {
        "id": "6WUcorzGdwnI"
      },
      "source": [
        "import libraries "
      ]
    },
    {
      "cell_type": "code",
      "metadata": {
        "id": "nr2nLFAsa6G-"
      },
      "source": [
        "import pandas as pd\r\n",
        "import numpy as np\r\n",
        "import matplotlib.pyplot as plt\r\n",
        "import seaborn as sns\r\n",
        "import tweepy\r\n",
        "from textblob import TextBlob\r\n",
        "from wordcloud import WordCloud\r\n",
        "import re\r\n",
        "plt.style.use('fivethirtyeight')"
      ],
      "execution_count": null,
      "outputs": []
    },
    {
      "cell_type": "markdown",
      "metadata": {
        "id": "muZv0r3cfAld"
      },
      "source": [
        "Load the data"
      ]
    },
    {
      "cell_type": "code",
      "metadata": {
        "id": "pFtvmIGIeTT-"
      },
      "source": [
        "tweets = pd.read_csv('/content/drive/My Drive/happy-tweets.csv')"
      ],
      "execution_count": null,
      "outputs": []
    },
    {
      "cell_type": "code",
      "metadata": {
        "colab": {
          "base_uri": "https://localhost:8080/",
          "height": 575
        },
        "id": "NUFN7y_EerH4",
        "outputId": "4b02a8ce-3caa-491a-dfd9-2af78a76ce57"
      },
      "source": [
        "tweets.head()"
      ],
      "execution_count": null,
      "outputs": [
        {
          "output_type": "execute_result",
          "data": {
            "text/html": [
              "<div>\n",
              "<style scoped>\n",
              "    .dataframe tbody tr th:only-of-type {\n",
              "        vertical-align: middle;\n",
              "    }\n",
              "\n",
              "    .dataframe tbody tr th {\n",
              "        vertical-align: top;\n",
              "    }\n",
              "\n",
              "    .dataframe thead th {\n",
              "        text-align: right;\n",
              "    }\n",
              "</style>\n",
              "<table border=\"1\" class=\"dataframe\">\n",
              "  <thead>\n",
              "    <tr style=\"text-align: right;\">\n",
              "      <th></th>\n",
              "      <th>Tweet Id</th>\n",
              "      <th>Text</th>\n",
              "      <th>Name</th>\n",
              "      <th>Screen Name</th>\n",
              "      <th>UTC</th>\n",
              "      <th>Created At</th>\n",
              "      <th>Favorites</th>\n",
              "      <th>Retweets</th>\n",
              "      <th>Language</th>\n",
              "      <th>Client</th>\n",
              "      <th>Tweet Type</th>\n",
              "      <th>URLs</th>\n",
              "      <th>Hashtags</th>\n",
              "      <th>Mentions</th>\n",
              "      <th>Media Type</th>\n",
              "      <th>Media URLs</th>\n",
              "      <th>Unnamed: 16</th>\n",
              "      <th>Unnamed: 17</th>\n",
              "      <th>Unnamed: 18</th>\n",
              "    </tr>\n",
              "  </thead>\n",
              "  <tbody>\n",
              "    <tr>\n",
              "      <th>0</th>\n",
              "      <td>1359065517147840513</td>\n",
              "      <td>if you truly want happiness, let go of the pas...</td>\n",
              "      <td>gabriel ⚡️</td>\n",
              "      <td>itsgabrielyuh</td>\n",
              "      <td>2021-02-09T09:04:04.000Z</td>\n",
              "      <td>Tue Feb 09 09:04:04 +0000 2021</td>\n",
              "      <td>0</td>\n",
              "      <td>0</td>\n",
              "      <td>en</td>\n",
              "      <td>&lt;a href=\"https://mobile.twitter.com\" rel=\"nofo...</td>\n",
              "      <td>Tweet</td>\n",
              "      <td>NaN</td>\n",
              "      <td>0</td>\n",
              "      <td>0</td>\n",
              "      <td>NaN</td>\n",
              "      <td>NaN</td>\n",
              "      <td>NaN</td>\n",
              "      <td>NaN</td>\n",
              "      <td>NaN</td>\n",
              "    </tr>\n",
              "    <tr>\n",
              "      <th>1</th>\n",
              "      <td>1359065513016631297</td>\n",
              "      <td>RT @HudaTVChannel : YA ALLAH ! Give Our mother...</td>\n",
              "      <td>tahir</td>\n",
              "      <td>binnadar87</td>\n",
              "      <td>2021-02-09T09:04:03.000Z</td>\n",
              "      <td>Tue Feb 09 09:04:03 +0000 2021</td>\n",
              "      <td>0</td>\n",
              "      <td>0</td>\n",
              "      <td>en</td>\n",
              "      <td>&lt;a href=\"http://twitter.com/download/android\" ...</td>\n",
              "      <td>Retweet</td>\n",
              "      <td>NaN</td>\n",
              "      <td>0</td>\n",
              "      <td>0</td>\n",
              "      <td>photo</td>\n",
              "      <td>https://pbs.twimg.com/media/EtwVdhkWQAEoqWt.jpg</td>\n",
              "      <td>NaN</td>\n",
              "      <td>NaN</td>\n",
              "      <td>NaN</td>\n",
              "    </tr>\n",
              "    <tr>\n",
              "      <th>2</th>\n",
              "      <td>1359065512479608833</td>\n",
              "      <td>RT @irubinadilaik : Is it true guys?\\n\\nWe ach...</td>\n",
              "      <td>Sabu</td>\n",
              "      <td>Sabu99613475</td>\n",
              "      <td>2021-02-09T09:04:03.000Z</td>\n",
              "      <td>Tue Feb 09 09:04:03 +0000 2021</td>\n",
              "      <td>0</td>\n",
              "      <td>0</td>\n",
              "      <td>en</td>\n",
              "      <td>&lt;a href=\"http://twitter.com/download/android\" ...</td>\n",
              "      <td>Retweet</td>\n",
              "      <td>NaN</td>\n",
              "      <td>0</td>\n",
              "      <td>0</td>\n",
              "      <td>NaN</td>\n",
              "      <td>NaN</td>\n",
              "      <td>NaN</td>\n",
              "      <td>NaN</td>\n",
              "      <td>NaN</td>\n",
              "    </tr>\n",
              "    <tr>\n",
              "      <th>3</th>\n",
              "      <td>1359065511351357440</td>\n",
              "      <td>RT @Kailash46280213 : I love u \\n@ashukla09 so...</td>\n",
              "      <td>Abhishek Sharma</td>\n",
              "      <td>Abhishe65396058</td>\n",
              "      <td>2021-02-09T09:04:02.000Z</td>\n",
              "      <td>Tue Feb 09 09:04:02 +0000 2021</td>\n",
              "      <td>0</td>\n",
              "      <td>0</td>\n",
              "      <td>en</td>\n",
              "      <td>&lt;a href=\"http://twitter.com/download/android\" ...</td>\n",
              "      <td>Retweet</td>\n",
              "      <td>NaN</td>\n",
              "      <td>0</td>\n",
              "      <td>1</td>\n",
              "      <td>NaN</td>\n",
              "      <td>NaN</td>\n",
              "      <td>NaN</td>\n",
              "      <td>NaN</td>\n",
              "      <td>NaN</td>\n",
              "    </tr>\n",
              "    <tr>\n",
              "      <th>4</th>\n",
              "      <td>1359065511309447175</td>\n",
              "      <td>RT @Priti75386701 : Is it true guys?\\n\\nWe ach...</td>\n",
              "      <td>Vikash Raj</td>\n",
              "      <td>VikashR61739797</td>\n",
              "      <td>2021-02-09T09:04:02.000Z</td>\n",
              "      <td>Tue Feb 09 09:04:02 +0000 2021</td>\n",
              "      <td>0</td>\n",
              "      <td>0</td>\n",
              "      <td>en</td>\n",
              "      <td>&lt;a href=\"http://twitter.com/download/android\" ...</td>\n",
              "      <td>Retweet</td>\n",
              "      <td>NaN</td>\n",
              "      <td>0</td>\n",
              "      <td>0</td>\n",
              "      <td>NaN</td>\n",
              "      <td>NaN</td>\n",
              "      <td>NaN</td>\n",
              "      <td>NaN</td>\n",
              "      <td>NaN</td>\n",
              "    </tr>\n",
              "  </tbody>\n",
              "</table>\n",
              "</div>"
            ],
            "text/plain": [
              "              Tweet Id  ... Unnamed: 18\n",
              "0  1359065517147840513  ...         NaN\n",
              "1  1359065513016631297  ...         NaN\n",
              "2  1359065512479608833  ...         NaN\n",
              "3  1359065511351357440  ...         NaN\n",
              "4  1359065511309447175  ...         NaN\n",
              "\n",
              "[5 rows x 19 columns]"
            ]
          },
          "metadata": {
            "tags": []
          },
          "execution_count": 5
        }
      ]
    },
    {
      "cell_type": "code",
      "metadata": {
        "colab": {
          "base_uri": "https://localhost:8080/"
        },
        "id": "PYRwb4ZIfHgZ",
        "outputId": "b7390680-c871-41b7-ea9c-498fa1b5ad44"
      },
      "source": [
        "tweets.info()"
      ],
      "execution_count": null,
      "outputs": [
        {
          "output_type": "stream",
          "text": [
            "<class 'pandas.core.frame.DataFrame'>\n",
            "RangeIndex: 2080 entries, 0 to 2079\n",
            "Data columns (total 19 columns):\n",
            " #   Column       Non-Null Count  Dtype \n",
            "---  ------       --------------  ----- \n",
            " 0   Tweet Id     2080 non-null   int64 \n",
            " 1   Text         2080 non-null   object\n",
            " 2   Name         2080 non-null   object\n",
            " 3   Screen Name  2080 non-null   object\n",
            " 4   UTC          2080 non-null   object\n",
            " 5   Created At   2080 non-null   object\n",
            " 6   Favorites    2080 non-null   int64 \n",
            " 7   Retweets     2080 non-null   int64 \n",
            " 8   Language     2080 non-null   object\n",
            " 9   Client       2079 non-null   object\n",
            " 10  Tweet Type   2080 non-null   object\n",
            " 11  URLs         160 non-null    object\n",
            " 12  Hashtags     2080 non-null   int64 \n",
            " 13  Mentions     2080 non-null   int64 \n",
            " 14  Media Type   771 non-null    object\n",
            " 15  Media URLs   771 non-null    object\n",
            " 16  Unnamed: 16  268 non-null    object\n",
            " 17  Unnamed: 17  140 non-null    object\n",
            " 18  Unnamed: 18  61 non-null     object\n",
            "dtypes: int64(5), object(14)\n",
            "memory usage: 308.9+ KB\n"
          ],
          "name": "stdout"
        }
      ]
    },
    {
      "cell_type": "code",
      "metadata": {
        "colab": {
          "base_uri": "https://localhost:8080/",
          "height": 286
        },
        "id": "gjiBO4gcfOxZ",
        "outputId": "25027b4a-c7c2-4a9d-c66e-8f6fce23cc41"
      },
      "source": [
        "tweets.describe()"
      ],
      "execution_count": null,
      "outputs": [
        {
          "output_type": "execute_result",
          "data": {
            "text/html": [
              "<div>\n",
              "<style scoped>\n",
              "    .dataframe tbody tr th:only-of-type {\n",
              "        vertical-align: middle;\n",
              "    }\n",
              "\n",
              "    .dataframe tbody tr th {\n",
              "        vertical-align: top;\n",
              "    }\n",
              "\n",
              "    .dataframe thead th {\n",
              "        text-align: right;\n",
              "    }\n",
              "</style>\n",
              "<table border=\"1\" class=\"dataframe\">\n",
              "  <thead>\n",
              "    <tr style=\"text-align: right;\">\n",
              "      <th></th>\n",
              "      <th>Tweet Id</th>\n",
              "      <th>Favorites</th>\n",
              "      <th>Retweets</th>\n",
              "      <th>Hashtags</th>\n",
              "      <th>Mentions</th>\n",
              "    </tr>\n",
              "  </thead>\n",
              "  <tbody>\n",
              "    <tr>\n",
              "      <th>count</th>\n",
              "      <td>2.080000e+03</td>\n",
              "      <td>2080.000000</td>\n",
              "      <td>2080.000000</td>\n",
              "      <td>2080.000000</td>\n",
              "      <td>2080.000000</td>\n",
              "    </tr>\n",
              "    <tr>\n",
              "      <th>mean</th>\n",
              "      <td>1.359063e+18</td>\n",
              "      <td>0.141827</td>\n",
              "      <td>0.044231</td>\n",
              "      <td>0.638462</td>\n",
              "      <td>0.605769</td>\n",
              "    </tr>\n",
              "    <tr>\n",
              "      <th>std</th>\n",
              "      <td>1.259634e+12</td>\n",
              "      <td>1.377194</td>\n",
              "      <td>0.483459</td>\n",
              "      <td>1.755651</td>\n",
              "      <td>2.685605</td>\n",
              "    </tr>\n",
              "    <tr>\n",
              "      <th>min</th>\n",
              "      <td>1.359061e+18</td>\n",
              "      <td>0.000000</td>\n",
              "      <td>0.000000</td>\n",
              "      <td>0.000000</td>\n",
              "      <td>0.000000</td>\n",
              "    </tr>\n",
              "    <tr>\n",
              "      <th>25%</th>\n",
              "      <td>1.359062e+18</td>\n",
              "      <td>0.000000</td>\n",
              "      <td>0.000000</td>\n",
              "      <td>0.000000</td>\n",
              "      <td>0.000000</td>\n",
              "    </tr>\n",
              "    <tr>\n",
              "      <th>50%</th>\n",
              "      <td>1.359063e+18</td>\n",
              "      <td>0.000000</td>\n",
              "      <td>0.000000</td>\n",
              "      <td>0.000000</td>\n",
              "      <td>0.000000</td>\n",
              "    </tr>\n",
              "    <tr>\n",
              "      <th>75%</th>\n",
              "      <td>1.359064e+18</td>\n",
              "      <td>0.000000</td>\n",
              "      <td>0.000000</td>\n",
              "      <td>1.000000</td>\n",
              "      <td>1.000000</td>\n",
              "    </tr>\n",
              "    <tr>\n",
              "      <th>max</th>\n",
              "      <td>1.359066e+18</td>\n",
              "      <td>50.000000</td>\n",
              "      <td>17.000000</td>\n",
              "      <td>31.000000</td>\n",
              "      <td>50.000000</td>\n",
              "    </tr>\n",
              "  </tbody>\n",
              "</table>\n",
              "</div>"
            ],
            "text/plain": [
              "           Tweet Id    Favorites     Retweets     Hashtags     Mentions\n",
              "count  2.080000e+03  2080.000000  2080.000000  2080.000000  2080.000000\n",
              "mean   1.359063e+18     0.141827     0.044231     0.638462     0.605769\n",
              "std    1.259634e+12     1.377194     0.483459     1.755651     2.685605\n",
              "min    1.359061e+18     0.000000     0.000000     0.000000     0.000000\n",
              "25%    1.359062e+18     0.000000     0.000000     0.000000     0.000000\n",
              "50%    1.359063e+18     0.000000     0.000000     0.000000     0.000000\n",
              "75%    1.359064e+18     0.000000     0.000000     1.000000     1.000000\n",
              "max    1.359066e+18    50.000000    17.000000    31.000000    50.000000"
            ]
          },
          "metadata": {
            "tags": []
          },
          "execution_count": 7
        }
      ]
    },
    {
      "cell_type": "code",
      "metadata": {
        "colab": {
          "base_uri": "https://localhost:8080/"
        },
        "id": "fltANQ0xfSEA",
        "outputId": "14023668-f16a-4f5a-bfc8-cedf19459533"
      },
      "source": [
        "tweets.columns"
      ],
      "execution_count": null,
      "outputs": [
        {
          "output_type": "execute_result",
          "data": {
            "text/plain": [
              "Index(['Tweet Id', 'Text', 'Name', 'Screen Name', 'UTC', 'Created At',\n",
              "       'Favorites', 'Retweets', 'Language', 'Client', 'Tweet Type', 'URLs',\n",
              "       'Hashtags', 'Mentions', 'Media Type', 'Media URLs', 'Unnamed: 16',\n",
              "       'Unnamed: 17', 'Unnamed: 18'],\n",
              "      dtype='object')"
            ]
          },
          "metadata": {
            "tags": []
          },
          "execution_count": 8
        }
      ]
    },
    {
      "cell_type": "markdown",
      "metadata": {
        "id": "c_rJBiKLfl80"
      },
      "source": [
        "izbrisali smo nepotrebne kolone i ostavili samo onu koja se tice twitter postova (texta)\r\n"
      ]
    },
    {
      "cell_type": "code",
      "metadata": {
        "id": "mQORg2u2fcIG"
      },
      "source": [
        "tweets = tweets.drop(columns={'Tweet Id','Name', 'Screen Name', 'Language', 'Client', 'Tweet Type', 'URLs', 'Mentions', 'Media Type', 'Media URLs', 'Unnamed: 16', 'Unnamed: 17','Unnamed: 18', 'Created At', 'Favorites', 'UTC', 'Hashtags', 'Retweets'})"
      ],
      "execution_count": null,
      "outputs": []
    },
    {
      "cell_type": "code",
      "metadata": {
        "colab": {
          "base_uri": "https://localhost:8080/"
        },
        "id": "DYXYmOfDf0Co",
        "outputId": "420ad646-09f3-4df7-aeb4-845d1ede02cb"
      },
      "source": [
        "tweets.columns"
      ],
      "execution_count": null,
      "outputs": [
        {
          "output_type": "execute_result",
          "data": {
            "text/plain": [
              "Index(['Text'], dtype='object')"
            ]
          },
          "metadata": {
            "tags": []
          },
          "execution_count": 10
        }
      ]
    },
    {
      "cell_type": "code",
      "metadata": {
        "id": "fb0OJoOuf4mt"
      },
      "source": [
        "tweets.columns = ['Tweet']"
      ],
      "execution_count": null,
      "outputs": []
    },
    {
      "cell_type": "code",
      "metadata": {
        "colab": {
          "base_uri": "https://localhost:8080/",
          "height": 197
        },
        "id": "Ljup5uukg0N7",
        "outputId": "d8ed3ff1-e302-4f19-e5f4-d792b2af0547"
      },
      "source": [
        "tweets.head()"
      ],
      "execution_count": null,
      "outputs": [
        {
          "output_type": "execute_result",
          "data": {
            "text/html": [
              "<div>\n",
              "<style scoped>\n",
              "    .dataframe tbody tr th:only-of-type {\n",
              "        vertical-align: middle;\n",
              "    }\n",
              "\n",
              "    .dataframe tbody tr th {\n",
              "        vertical-align: top;\n",
              "    }\n",
              "\n",
              "    .dataframe thead th {\n",
              "        text-align: right;\n",
              "    }\n",
              "</style>\n",
              "<table border=\"1\" class=\"dataframe\">\n",
              "  <thead>\n",
              "    <tr style=\"text-align: right;\">\n",
              "      <th></th>\n",
              "      <th>Tweet</th>\n",
              "    </tr>\n",
              "  </thead>\n",
              "  <tbody>\n",
              "    <tr>\n",
              "      <th>0</th>\n",
              "      <td>if you truly want happiness, let go of the pas...</td>\n",
              "    </tr>\n",
              "    <tr>\n",
              "      <th>1</th>\n",
              "      <td>RT @HudaTVChannel : YA ALLAH ! Give Our mother...</td>\n",
              "    </tr>\n",
              "    <tr>\n",
              "      <th>2</th>\n",
              "      <td>RT @irubinadilaik : Is it true guys?\\n\\nWe ach...</td>\n",
              "    </tr>\n",
              "    <tr>\n",
              "      <th>3</th>\n",
              "      <td>RT @Kailash46280213 : I love u \\n@ashukla09 so...</td>\n",
              "    </tr>\n",
              "    <tr>\n",
              "      <th>4</th>\n",
              "      <td>RT @Priti75386701 : Is it true guys?\\n\\nWe ach...</td>\n",
              "    </tr>\n",
              "  </tbody>\n",
              "</table>\n",
              "</div>"
            ],
            "text/plain": [
              "                                               Tweet\n",
              "0  if you truly want happiness, let go of the pas...\n",
              "1  RT @HudaTVChannel : YA ALLAH ! Give Our mother...\n",
              "2  RT @irubinadilaik : Is it true guys?\\n\\nWe ach...\n",
              "3  RT @Kailash46280213 : I love u \\n@ashukla09 so...\n",
              "4  RT @Priti75386701 : Is it true guys?\\n\\nWe ach..."
            ]
          },
          "metadata": {
            "tags": []
          },
          "execution_count": 12
        }
      ]
    },
    {
      "cell_type": "markdown",
      "metadata": {
        "id": "91caeTZWhu-g"
      },
      "source": [
        "Clean the text in Tweet posts\r\n",
        "tako sto cemo kreirati funkciju kojom se uklanjaju posebni simboli i mentions u samom tekstu:    \r\n",
        "    remove urls\r\n",
        "    remove special chars\r\n",
        "    remove @mentions and #hashtag\r\n",
        "    remove html tags\r\n",
        "    \r\n"
      ]
    },
    {
      "cell_type": "code",
      "metadata": {
        "id": "UCdAmN_gg3ux"
      },
      "source": [
        "def cleanTxt(text):\r\n",
        "  text = re.sub(r\"@[A-Za-z0-9]+\", \" \", text, flags=re.MULTILINE) #removed mentions\r\n",
        "  text = re.sub(r\"#\", \" \", text, flags=re.MULTILINE) #removing the '#' symbol\r\n",
        "  text = re.sub(r\"[RT\\s]+\", \" \",text, flags=re.MULTILINE) #removing RT\r\n",
        "  text = re.sub(r\"https*\\S+\", \" \",text, flags=re.MULTILINE) #remove hyperlinks\r\n",
        "  text = re.sub(r\":\", \" \", text, flags=re.MULTILINE) #removing the ':' symbol\r\n",
        "\r\n",
        "  #text = ''.join(re.sub(\"(@[A-Za-z0–9]+)|([⁰-9A-Za-z \\t])|(\\w+:\\/\\/\\S+)\",\" \",text).split())\r\n",
        "\r\n",
        "  return text\r\n",
        "\r\n",
        "  #cleaning the text\r\n",
        "  tweets['Tweet'] = tweets['Tweet'].apply(cleanTxt)"
      ],
      "execution_count": null,
      "outputs": []
    },
    {
      "cell_type": "code",
      "metadata": {
        "colab": {
          "base_uri": "https://localhost:8080/",
          "height": 405
        },
        "id": "aGajo2WjkEir",
        "outputId": "63857840-551d-4a9e-a6b5-c263e61bcca2"
      },
      "source": [
        "#show the cleaned text\r\n",
        "tweets"
      ],
      "execution_count": null,
      "outputs": [
        {
          "output_type": "execute_result",
          "data": {
            "text/html": [
              "<div>\n",
              "<style scoped>\n",
              "    .dataframe tbody tr th:only-of-type {\n",
              "        vertical-align: middle;\n",
              "    }\n",
              "\n",
              "    .dataframe tbody tr th {\n",
              "        vertical-align: top;\n",
              "    }\n",
              "\n",
              "    .dataframe thead th {\n",
              "        text-align: right;\n",
              "    }\n",
              "</style>\n",
              "<table border=\"1\" class=\"dataframe\">\n",
              "  <thead>\n",
              "    <tr style=\"text-align: right;\">\n",
              "      <th></th>\n",
              "      <th>Tweet</th>\n",
              "    </tr>\n",
              "  </thead>\n",
              "  <tbody>\n",
              "    <tr>\n",
              "      <th>0</th>\n",
              "      <td>if you truly want happiness, let go of the pas...</td>\n",
              "    </tr>\n",
              "    <tr>\n",
              "      <th>1</th>\n",
              "      <td>: YA ALLAH ! Give Our mothers, sisters and da...</td>\n",
              "    </tr>\n",
              "    <tr>\n",
              "      <th>2</th>\n",
              "      <td>: Is it true guys? We achieved 15M!!!! I can'...</td>\n",
              "    </tr>\n",
              "    <tr>\n",
              "      <th>3</th>\n",
              "      <td>: I love u so much the 1st indian celebrity w...</td>\n",
              "    </tr>\n",
              "    <tr>\n",
              "      <th>4</th>\n",
              "      <td>: Is it true guys? We achieved 15M!!!! I can'...</td>\n",
              "    </tr>\n",
              "    <tr>\n",
              "      <th>...</th>\n",
              "      <td>...</td>\n",
              "    </tr>\n",
              "    <tr>\n",
              "      <th>2075</th>\n",
              "      <td>: Is it true guys? We achieved 15M!!!! I can'...</td>\n",
              "    </tr>\n",
              "    <tr>\n",
              "      <th>2076</th>\n",
              "      <td>@_ayeshaxoxo : “MONEY CAN’ BUY HAPPINESS” IS ...</td>\n",
              "    </tr>\n",
              "    <tr>\n",
              "      <th>2077</th>\n",
              "      <td>_4Fans : Happiness is a sweet babboo 💗</td>\n",
              "    </tr>\n",
              "    <tr>\n",
              "      <th>2078</th>\n",
              "      <td>: he is exactly what I said yesterday, Occupy...</td>\n",
              "    </tr>\n",
              "    <tr>\n",
              "      <th>2079</th>\n",
              "      <td>: Yessssssssssss....... ears of happiness :'(...</td>\n",
              "    </tr>\n",
              "  </tbody>\n",
              "</table>\n",
              "<p>2080 rows × 1 columns</p>\n",
              "</div>"
            ],
            "text/plain": [
              "                                                  Tweet\n",
              "0     if you truly want happiness, let go of the pas...\n",
              "1      : YA ALLAH ! Give Our mothers, sisters and da...\n",
              "2      : Is it true guys? We achieved 15M!!!! I can'...\n",
              "3      : I love u so much the 1st indian celebrity w...\n",
              "4      : Is it true guys? We achieved 15M!!!! I can'...\n",
              "...                                                 ...\n",
              "2075   : Is it true guys? We achieved 15M!!!! I can'...\n",
              "2076   @_ayeshaxoxo : “MONEY CAN’ BUY HAPPINESS” IS ...\n",
              "2077            _4Fans : Happiness is a sweet babboo 💗 \n",
              "2078   : he is exactly what I said yesterday, Occupy...\n",
              "2079   : Yessssssssssss....... ears of happiness :'(...\n",
              "\n",
              "[2080 rows x 1 columns]"
            ]
          },
          "metadata": {
            "tags": []
          },
          "execution_count": 24
        }
      ]
    },
    {
      "cell_type": "code",
      "metadata": {
        "id": "yOVRZ4fVtmMS"
      },
      "source": [
        "  tweets['Tweet'] = tweets['Tweet'].apply(cleanTxt)"
      ],
      "execution_count": null,
      "outputs": []
    },
    {
      "cell_type": "code",
      "metadata": {
        "colab": {
          "base_uri": "https://localhost:8080/",
          "height": 405
        },
        "id": "w7g-RLd1vYjI",
        "outputId": "04a4b8d3-74dc-4bc7-bca2-a499a2ab7f41"
      },
      "source": [
        "tweets"
      ],
      "execution_count": null,
      "outputs": [
        {
          "output_type": "execute_result",
          "data": {
            "text/html": [
              "<div>\n",
              "<style scoped>\n",
              "    .dataframe tbody tr th:only-of-type {\n",
              "        vertical-align: middle;\n",
              "    }\n",
              "\n",
              "    .dataframe tbody tr th {\n",
              "        vertical-align: top;\n",
              "    }\n",
              "\n",
              "    .dataframe thead th {\n",
              "        text-align: right;\n",
              "    }\n",
              "</style>\n",
              "<table border=\"1\" class=\"dataframe\">\n",
              "  <thead>\n",
              "    <tr style=\"text-align: right;\">\n",
              "      <th></th>\n",
              "      <th>Tweet</th>\n",
              "    </tr>\n",
              "  </thead>\n",
              "  <tbody>\n",
              "    <tr>\n",
              "      <th>0</th>\n",
              "      <td>if you truly want happiness, let go of the pas...</td>\n",
              "    </tr>\n",
              "    <tr>\n",
              "      <th>1</th>\n",
              "      <td>YA ALLAH ! Give Our mothers, sisters and da...</td>\n",
              "    </tr>\n",
              "    <tr>\n",
              "      <th>2</th>\n",
              "      <td>Is it true guys? We achieved 15M!!!! I can'...</td>\n",
              "    </tr>\n",
              "    <tr>\n",
              "      <th>3</th>\n",
              "      <td>I love u so much the 1st indian celebrity w...</td>\n",
              "    </tr>\n",
              "    <tr>\n",
              "      <th>4</th>\n",
              "      <td>Is it true guys? We achieved 15M!!!! I can'...</td>\n",
              "    </tr>\n",
              "    <tr>\n",
              "      <th>...</th>\n",
              "      <td>...</td>\n",
              "    </tr>\n",
              "    <tr>\n",
              "      <th>2075</th>\n",
              "      <td>Is it true guys? We achieved 15M!!!! I can'...</td>\n",
              "    </tr>\n",
              "    <tr>\n",
              "      <th>2076</th>\n",
              "      <td>@_ayeshaxoxo   “MONEY CAN’ BUY HAPPINESS” IS ...</td>\n",
              "    </tr>\n",
              "    <tr>\n",
              "      <th>2077</th>\n",
              "      <td>_4Fans   Happiness is a sweet babboo 💗</td>\n",
              "    </tr>\n",
              "    <tr>\n",
              "      <th>2078</th>\n",
              "      <td>he is exactly what I said yesterday, Occupy...</td>\n",
              "    </tr>\n",
              "    <tr>\n",
              "      <th>2079</th>\n",
              "      <td>Yessssssssssss....... ears of happiness  '(...</td>\n",
              "    </tr>\n",
              "  </tbody>\n",
              "</table>\n",
              "<p>2080 rows × 1 columns</p>\n",
              "</div>"
            ],
            "text/plain": [
              "                                                  Tweet\n",
              "0     if you truly want happiness, let go of the pas...\n",
              "1        YA ALLAH ! Give Our mothers, sisters and da...\n",
              "2        Is it true guys? We achieved 15M!!!! I can'...\n",
              "3        I love u so much the 1st indian celebrity w...\n",
              "4        Is it true guys? We achieved 15M!!!! I can'...\n",
              "...                                                 ...\n",
              "2075     Is it true guys? We achieved 15M!!!! I can'...\n",
              "2076   @_ayeshaxoxo   “MONEY CAN’ BUY HAPPINESS” IS ...\n",
              "2077            _4Fans   Happiness is a sweet babboo 💗 \n",
              "2078     he is exactly what I said yesterday, Occupy...\n",
              "2079     Yessssssssssss....... ears of happiness  '(...\n",
              "\n",
              "[2080 rows x 1 columns]"
            ]
          },
          "metadata": {
            "tags": []
          },
          "execution_count": 26
        }
      ]
    },
    {
      "cell_type": "markdown",
      "metadata": {
        "id": "y501ZeRTv-tp"
      },
      "source": [
        "Create a functions to get Subjectivity and Polarity, then add 2 more columns"
      ]
    },
    {
      "cell_type": "code",
      "metadata": {
        "id": "rMZfSGg3vel2"
      },
      "source": [
        "def getSubjectivity(text):\r\n",
        "  return TextBlob(text).sentiment.subjectivity\r\n",
        "\r\n",
        "def getPolarity(text):\r\n",
        "  return TextBlob(text).sentiment.polarity\r\n",
        "\r\n",
        "tweets['Subjectivity'] = tweets['Tweet'].apply(getSubjectivity)\r\n",
        "tweets['Polarity'] = tweets['Tweet'].apply(getPolarity)"
      ],
      "execution_count": null,
      "outputs": []
    },
    {
      "cell_type": "code",
      "metadata": {
        "colab": {
          "base_uri": "https://localhost:8080/",
          "height": 405
        },
        "id": "GBeb7QupxCR5",
        "outputId": "928533e3-cd6e-420b-b2a3-1d6d3aba877d"
      },
      "source": [
        "tweets"
      ],
      "execution_count": null,
      "outputs": [
        {
          "output_type": "execute_result",
          "data": {
            "text/html": [
              "<div>\n",
              "<style scoped>\n",
              "    .dataframe tbody tr th:only-of-type {\n",
              "        vertical-align: middle;\n",
              "    }\n",
              "\n",
              "    .dataframe tbody tr th {\n",
              "        vertical-align: top;\n",
              "    }\n",
              "\n",
              "    .dataframe thead th {\n",
              "        text-align: right;\n",
              "    }\n",
              "</style>\n",
              "<table border=\"1\" class=\"dataframe\">\n",
              "  <thead>\n",
              "    <tr style=\"text-align: right;\">\n",
              "      <th></th>\n",
              "      <th>Tweet</th>\n",
              "      <th>Subjectivity</th>\n",
              "      <th>Polarity</th>\n",
              "    </tr>\n",
              "  </thead>\n",
              "  <tbody>\n",
              "    <tr>\n",
              "      <th>0</th>\n",
              "      <td>if you truly want happiness, let go of the pas...</td>\n",
              "      <td>0.191667</td>\n",
              "      <td>0.150000</td>\n",
              "    </tr>\n",
              "    <tr>\n",
              "      <th>1</th>\n",
              "      <td>YA ALLAH ! Give Our mothers, sisters and da...</td>\n",
              "      <td>0.433333</td>\n",
              "      <td>0.633333</td>\n",
              "    </tr>\n",
              "    <tr>\n",
              "      <th>2</th>\n",
              "      <td>Is it true guys? We achieved 15M!!!! I can'...</td>\n",
              "      <td>0.425000</td>\n",
              "      <td>0.864746</td>\n",
              "    </tr>\n",
              "    <tr>\n",
              "      <th>3</th>\n",
              "      <td>I love u so much the 1st indian celebrity w...</td>\n",
              "      <td>0.340000</td>\n",
              "      <td>0.508333</td>\n",
              "    </tr>\n",
              "    <tr>\n",
              "      <th>4</th>\n",
              "      <td>Is it true guys? We achieved 15M!!!! I can'...</td>\n",
              "      <td>0.425000</td>\n",
              "      <td>0.864746</td>\n",
              "    </tr>\n",
              "    <tr>\n",
              "      <th>...</th>\n",
              "      <td>...</td>\n",
              "      <td>...</td>\n",
              "      <td>...</td>\n",
              "    </tr>\n",
              "    <tr>\n",
              "      <th>2075</th>\n",
              "      <td>Is it true guys? We achieved 15M!!!! I can'...</td>\n",
              "      <td>0.425000</td>\n",
              "      <td>0.864746</td>\n",
              "    </tr>\n",
              "    <tr>\n",
              "      <th>2076</th>\n",
              "      <td>@_ayeshaxoxo   “MONEY CAN’ BUY HAPPINESS” IS ...</td>\n",
              "      <td>0.200000</td>\n",
              "      <td>0.875000</td>\n",
              "    </tr>\n",
              "    <tr>\n",
              "      <th>2077</th>\n",
              "      <td>_4Fans   Happiness is a sweet babboo 💗</td>\n",
              "      <td>0.425000</td>\n",
              "      <td>0.525000</td>\n",
              "    </tr>\n",
              "    <tr>\n",
              "      <th>2078</th>\n",
              "      <td>he is exactly what I said yesterday, Occupy...</td>\n",
              "      <td>0.225000</td>\n",
              "      <td>0.475000</td>\n",
              "    </tr>\n",
              "    <tr>\n",
              "      <th>2079</th>\n",
              "      <td>Yessssssssssss....... ears of happiness  '(...</td>\n",
              "      <td>0.200000</td>\n",
              "      <td>0.700000</td>\n",
              "    </tr>\n",
              "  </tbody>\n",
              "</table>\n",
              "<p>2080 rows × 3 columns</p>\n",
              "</div>"
            ],
            "text/plain": [
              "                                                  Tweet  Subjectivity  Polarity\n",
              "0     if you truly want happiness, let go of the pas...      0.191667  0.150000\n",
              "1        YA ALLAH ! Give Our mothers, sisters and da...      0.433333  0.633333\n",
              "2        Is it true guys? We achieved 15M!!!! I can'...      0.425000  0.864746\n",
              "3        I love u so much the 1st indian celebrity w...      0.340000  0.508333\n",
              "4        Is it true guys? We achieved 15M!!!! I can'...      0.425000  0.864746\n",
              "...                                                 ...           ...       ...\n",
              "2075     Is it true guys? We achieved 15M!!!! I can'...      0.425000  0.864746\n",
              "2076   @_ayeshaxoxo   “MONEY CAN’ BUY HAPPINESS” IS ...      0.200000  0.875000\n",
              "2077            _4Fans   Happiness is a sweet babboo 💗       0.425000  0.525000\n",
              "2078     he is exactly what I said yesterday, Occupy...      0.225000  0.475000\n",
              "2079     Yessssssssssss....... ears of happiness  '(...      0.200000  0.700000\n",
              "\n",
              "[2080 rows x 3 columns]"
            ]
          },
          "metadata": {
            "tags": []
          },
          "execution_count": 28
        }
      ]
    },
    {
      "cell_type": "code",
      "metadata": {
        "colab": {
          "base_uri": "https://localhost:8080/"
        },
        "id": "xlIpHSQTxGWW",
        "outputId": "868d10b0-7da7-40ba-933f-84584344a612"
      },
      "source": [
        "  tweets['Tweet'].apply(cleanTxt)"
      ],
      "execution_count": null,
      "outputs": [
        {
          "output_type": "execute_result",
          "data": {
            "text/plain": [
              "0       if you truly want happiness, let go of the pas...\n",
              "1        YA ALLAH ! Give Our mothers, sisters and daug...\n",
              "2        Is it true guys? We achieved 15M!!!! I can't ...\n",
              "3        I love u so much the 1st indian celebrity who...\n",
              "4        Is it true guys? We achieved 15M!!!! I can't ...\n",
              "                              ...                        \n",
              "2075     Is it true guys? We achieved 15M!!!! I can't ...\n",
              "2076     @_ayeshaxoxo “MONEY CAN’ BUY HAPPINESS” IS A ...\n",
              "2077                _4Fans Happiness is a sweet babboo 💗 \n",
              "2078     he is exactly what I said yesterday, OccupyLe...\n",
              "2079     Yessssssssssss....... ears of happiness '( DE...\n",
              "Name: Tweet, Length: 2080, dtype: object"
            ]
          },
          "metadata": {
            "tags": []
          },
          "execution_count": 29
        }
      ]
    },
    {
      "cell_type": "markdown",
      "metadata": {
        "id": "K6HkhCvvzCno"
      },
      "source": [
        "plot the Word Cloud"
      ]
    },
    {
      "cell_type": "code",
      "metadata": {
        "colab": {
          "base_uri": "https://localhost:8080/",
          "height": 264
        },
        "id": "HXGkfdtExRIF",
        "outputId": "501daa39-d802-4f02-9896-8c3b1a14c9ee"
      },
      "source": [
        "allWords = ' '.join( [twts for twts in tweets['Tweet']] )\r\n",
        "wordCloud = WordCloud(width=900, height=600, random_state=21, max_font_size=119).generate(allWords)\r\n",
        "\r\n",
        "plt.imshow(wordCloud, interpolation=\"bilinear\")\r\n",
        "plt.axis('off')\r\n",
        "plt.show()"
      ],
      "execution_count": null,
      "outputs": [
        {
          "output_type": "display_data",
          "data": {
            "image/png": "[encoded data removed]",
            "text/plain": [
              "<Figure size 432x288 with 1 Axes>"
            ]
          },
          "metadata": {
            "tags": []
          }
        }
      ]
    },
    {
      "cell_type": "markdown",
      "metadata": {
        "id": "uPBBoaYTzMD8"
      },
      "source": [
        "function in order to get info on positive, negative and neutral analysis"
      ]
    },
    {
      "cell_type": "code",
      "metadata": {
        "colab": {
          "base_uri": "https://localhost:8080/",
          "height": 405
        },
        "id": "XyukltHcy5o7",
        "outputId": "85c6a0cb-6601-442d-aaef-166d24d022d1"
      },
      "source": [
        "def getAnalysis(score):\r\n",
        "  if score < 0:\r\n",
        "    return \"Negative\"\r\n",
        "  elif score == 0:\r\n",
        "    return \"Neutral\"\r\n",
        "  else:\r\n",
        "    return \"Positive\"\r\n",
        "\r\n",
        "tweets['Analysis'] = tweets['Polarity'].apply(getAnalysis)\r\n",
        "\r\n",
        "#show the dataFrame\r\n",
        "tweets"
      ],
      "execution_count": null,
      "outputs": [
        {
          "output_type": "execute_result",
          "data": {
            "text/html": [
              "<div>\n",
              "<style scoped>\n",
              "    .dataframe tbody tr th:only-of-type {\n",
              "        vertical-align: middle;\n",
              "    }\n",
              "\n",
              "    .dataframe tbody tr th {\n",
              "        vertical-align: top;\n",
              "    }\n",
              "\n",
              "    .dataframe thead th {\n",
              "        text-align: right;\n",
              "    }\n",
              "</style>\n",
              "<table border=\"1\" class=\"dataframe\">\n",
              "  <thead>\n",
              "    <tr style=\"text-align: right;\">\n",
              "      <th></th>\n",
              "      <th>Tweet</th>\n",
              "      <th>Subjectivity</th>\n",
              "      <th>Polarity</th>\n",
              "      <th>Analysis</th>\n",
              "    </tr>\n",
              "  </thead>\n",
              "  <tbody>\n",
              "    <tr>\n",
              "      <th>0</th>\n",
              "      <td>if you truly want happiness, let go of the pas...</td>\n",
              "      <td>0.191667</td>\n",
              "      <td>0.150000</td>\n",
              "      <td>Positive</td>\n",
              "    </tr>\n",
              "    <tr>\n",
              "      <th>1</th>\n",
              "      <td>YA ALLAH ! Give Our mothers, sisters and da...</td>\n",
              "      <td>0.433333</td>\n",
              "      <td>0.633333</td>\n",
              "      <td>Positive</td>\n",
              "    </tr>\n",
              "    <tr>\n",
              "      <th>2</th>\n",
              "      <td>Is it true guys? We achieved 15M!!!! I can'...</td>\n",
              "      <td>0.425000</td>\n",
              "      <td>0.864746</td>\n",
              "      <td>Positive</td>\n",
              "    </tr>\n",
              "    <tr>\n",
              "      <th>3</th>\n",
              "      <td>I love u so much the 1st indian celebrity w...</td>\n",
              "      <td>0.340000</td>\n",
              "      <td>0.508333</td>\n",
              "      <td>Positive</td>\n",
              "    </tr>\n",
              "    <tr>\n",
              "      <th>4</th>\n",
              "      <td>Is it true guys? We achieved 15M!!!! I can'...</td>\n",
              "      <td>0.425000</td>\n",
              "      <td>0.864746</td>\n",
              "      <td>Positive</td>\n",
              "    </tr>\n",
              "    <tr>\n",
              "      <th>...</th>\n",
              "      <td>...</td>\n",
              "      <td>...</td>\n",
              "      <td>...</td>\n",
              "      <td>...</td>\n",
              "    </tr>\n",
              "    <tr>\n",
              "      <th>2075</th>\n",
              "      <td>Is it true guys? We achieved 15M!!!! I can'...</td>\n",
              "      <td>0.425000</td>\n",
              "      <td>0.864746</td>\n",
              "      <td>Positive</td>\n",
              "    </tr>\n",
              "    <tr>\n",
              "      <th>2076</th>\n",
              "      <td>@_ayeshaxoxo   “MONEY CAN’ BUY HAPPINESS” IS ...</td>\n",
              "      <td>0.200000</td>\n",
              "      <td>0.875000</td>\n",
              "      <td>Positive</td>\n",
              "    </tr>\n",
              "    <tr>\n",
              "      <th>2077</th>\n",
              "      <td>_4Fans   Happiness is a sweet babboo 💗</td>\n",
              "      <td>0.425000</td>\n",
              "      <td>0.525000</td>\n",
              "      <td>Positive</td>\n",
              "    </tr>\n",
              "    <tr>\n",
              "      <th>2078</th>\n",
              "      <td>he is exactly what I said yesterday, Occupy...</td>\n",
              "      <td>0.225000</td>\n",
              "      <td>0.475000</td>\n",
              "      <td>Positive</td>\n",
              "    </tr>\n",
              "    <tr>\n",
              "      <th>2079</th>\n",
              "      <td>Yessssssssssss....... ears of happiness  '(...</td>\n",
              "      <td>0.200000</td>\n",
              "      <td>0.700000</td>\n",
              "      <td>Positive</td>\n",
              "    </tr>\n",
              "  </tbody>\n",
              "</table>\n",
              "<p>2080 rows × 4 columns</p>\n",
              "</div>"
            ],
            "text/plain": [
              "                                                  Tweet  ...  Analysis\n",
              "0     if you truly want happiness, let go of the pas...  ...  Positive\n",
              "1        YA ALLAH ! Give Our mothers, sisters and da...  ...  Positive\n",
              "2        Is it true guys? We achieved 15M!!!! I can'...  ...  Positive\n",
              "3        I love u so much the 1st indian celebrity w...  ...  Positive\n",
              "4        Is it true guys? We achieved 15M!!!! I can'...  ...  Positive\n",
              "...                                                 ...  ...       ...\n",
              "2075     Is it true guys? We achieved 15M!!!! I can'...  ...  Positive\n",
              "2076   @_ayeshaxoxo   “MONEY CAN’ BUY HAPPINESS” IS ...  ...  Positive\n",
              "2077            _4Fans   Happiness is a sweet babboo 💗   ...  Positive\n",
              "2078     he is exactly what I said yesterday, Occupy...  ...  Positive\n",
              "2079     Yessssssssssss....... ears of happiness  '(...  ...  Positive\n",
              "\n",
              "[2080 rows x 4 columns]"
            ]
          },
          "metadata": {
            "tags": []
          },
          "execution_count": 31
        }
      ]
    },
    {
      "cell_type": "markdown",
      "metadata": {
        "id": "nIYrpo251H2X"
      },
      "source": [
        "Da bi dosli do procenta +,- i 0 tvitova:\r\n",
        "\r\n",
        "ukupan broj pozitivnih tvitova, delimo sa ukupnim brojem tvitova i da bi dosli do procenta - mnozimo sa 100:"
      ]
    },
    {
      "cell_type": "code",
      "metadata": {
        "colab": {
          "base_uri": "https://localhost:8080/"
        },
        "id": "2Dbx7v8J0t-t",
        "outputId": "add6b736-c6fa-446c-8e10-c8c8cc10668f"
      },
      "source": [
        "ptweets = tweets[tweets.Analysis == 'Positive']\r\n",
        "ptweets = ptweets['Tweet']\r\n",
        "\r\n",
        "ptweets"
      ],
      "execution_count": null,
      "outputs": [
        {
          "output_type": "execute_result",
          "data": {
            "text/plain": [
              "0       if you truly want happiness, let go of the pas...\n",
              "1          YA ALLAH ! Give Our mothers, sisters and da...\n",
              "2          Is it true guys? We achieved 15M!!!! I can'...\n",
              "3          I love u so much the 1st indian celebrity w...\n",
              "4          Is it true guys? We achieved 15M!!!! I can'...\n",
              "                              ...                        \n",
              "2075       Is it true guys? We achieved 15M!!!! I can'...\n",
              "2076     @_ayeshaxoxo   “MONEY CAN’ BUY HAPPINESS” IS ...\n",
              "2077              _4Fans   Happiness is a sweet babboo 💗 \n",
              "2078       he is exactly what I said yesterday, Occupy...\n",
              "2079       Yessssssssssss....... ears of happiness  '(...\n",
              "Name: Tweet, Length: 1960, dtype: object"
            ]
          },
          "metadata": {
            "tags": []
          },
          "execution_count": 32
        }
      ]
    },
    {
      "cell_type": "code",
      "metadata": {
        "colab": {
          "base_uri": "https://localhost:8080/"
        },
        "id": "YAqeEK4R1fur",
        "outputId": "5ec160c9-88ed-4c33-cb17-d26fc3b5c1bd"
      },
      "source": [
        "round( (ptweets.shape[0]/tweets.shape[0]) * 100, 1)"
      ],
      "execution_count": null,
      "outputs": [
        {
          "output_type": "execute_result",
          "data": {
            "text/plain": [
              "94.2"
            ]
          },
          "metadata": {
            "tags": []
          },
          "execution_count": 33
        }
      ]
    },
    {
      "cell_type": "markdown",
      "metadata": {
        "id": "uvF7NMgb2o28"
      },
      "source": [
        "plot subjectivity and polarity"
      ]
    },
    {
      "cell_type": "code",
      "metadata": {
        "colab": {
          "base_uri": "https://localhost:8080/"
        },
        "id": "H185tPQr3cyO",
        "outputId": "272063b7-e0aa-4ef5-92a8-b915fcfd0257"
      },
      "source": [
        "ntweets = tweets[tweets.Analysis == 'Negative']\r\n",
        "ntweets = ntweets['Tweet']\r\n",
        "\r\n",
        "round( (ntweets.shape[0]/tweets.shape[0]) * 100,1)"
      ],
      "execution_count": null,
      "outputs": [
        {
          "output_type": "execute_result",
          "data": {
            "text/plain": [
              "1.1"
            ]
          },
          "metadata": {
            "tags": []
          },
          "execution_count": 34
        }
      ]
    },
    {
      "cell_type": "code",
      "metadata": {
        "colab": {
          "base_uri": "https://localhost:8080/",
          "height": 391
        },
        "id": "hJmMDIGt4g1v",
        "outputId": "abcdbb24-bd12-464f-d5db-8e40deb6dd56"
      },
      "source": [
        "#Show the value_counts\r\n",
        "\r\n",
        "tweets['Analysis'].value_counts()\r\n",
        "\r\n",
        "#plot and visualize the counts\r\n",
        "plt.title('Sentiment Analysis')\r\n",
        "plt.xlabel('Sentiment')\r\n",
        "plt.ylabel('Counts')\r\n",
        "tweets['Analysis'].value_counts().plot(kind='bar')\r\n",
        "plt.show"
      ],
      "execution_count": null,
      "outputs": [
        {
          "output_type": "execute_result",
          "data": {
            "text/plain": [
              "<function matplotlib.pyplot.show>"
            ]
          },
          "metadata": {
            "tags": []
          },
          "execution_count": 35
        },
        {
          "output_type": "display_data",
          "data": {
            "image/png": "[encoded data removed]",
            "text/plain": [
              "<Figure size 432x288 with 1 Axes>"
            ]
          },
          "metadata": {
            "tags": []
          }
        }
      ]
    },
    {
      "cell_type": "markdown",
      "metadata": {
        "id": "aMo8yHPsCcRt"
      },
      "source": [
        "TFIDF VECTOR"
      ]
    },
    {
      "cell_type": "markdown",
      "metadata": {
        "id": "MIAhf0pOB8fS"
      },
      "source": [
        "konvertovanje teksta u numericke podatke, kako bi mogli da primenimo neki ML model, jer ML algoritam razume samo numerical DATA"
      ]
    },
    {
      "cell_type": "code",
      "metadata": {
        "id": "KXr_nLI65Q88"
      },
      "source": [
        "from sklearn.feature_extraction.text import TfidfVectorizer\r\n",
        "from sklearn.model_selection import train_test_split\r\n",
        "from sklearn.svm import LinearSVC\r\n",
        "from sklearn.metrics import classification_report"
      ],
      "execution_count": null,
      "outputs": []
    },
    {
      "cell_type": "markdown",
      "metadata": {
        "id": "lIZkuzGkDulz"
      },
      "source": [
        "prvo cemo transformisati kolonu  Analysis kolonu, a potom i tweets, da bi mogli da primenimo ML model\r\n",
        "\r\n",
        "\r\n"
      ]
    },
    {
      "cell_type": "code",
      "metadata": {
        "id": "H576-qaAFWK6"
      },
      "source": [
        "\r\n",
        "def getSentiment(sentiment):\r\n",
        "  for i in tweets.Analysis:\r\n",
        "   if (i == 'Positive'):\r\n",
        "     return 1   \r\n",
        "   else:\r\n",
        "     return 0\r\n",
        "\r\n",
        "tweets['Analysis'] = tweets['Analysis'].apply(getSentiment)\r\n"
      ],
      "execution_count": null,
      "outputs": []
    },
    {
      "cell_type": "code",
      "metadata": {
        "colab": {
          "base_uri": "https://localhost:8080/",
          "height": 405
        },
        "id": "bEg-gDCCHGfi",
        "outputId": "59889574-1451-4194-c6d5-0c7572f9a5c9"
      },
      "source": [
        "tweets"
      ],
      "execution_count": null,
      "outputs": [
        {
          "output_type": "execute_result",
          "data": {
            "text/html": [
              "<div>\n",
              "<style scoped>\n",
              "    .dataframe tbody tr th:only-of-type {\n",
              "        vertical-align: middle;\n",
              "    }\n",
              "\n",
              "    .dataframe tbody tr th {\n",
              "        vertical-align: top;\n",
              "    }\n",
              "\n",
              "    .dataframe thead th {\n",
              "        text-align: right;\n",
              "    }\n",
              "</style>\n",
              "<table border=\"1\" class=\"dataframe\">\n",
              "  <thead>\n",
              "    <tr style=\"text-align: right;\">\n",
              "      <th></th>\n",
              "      <th>Tweet</th>\n",
              "      <th>Subjectivity</th>\n",
              "      <th>Polarity</th>\n",
              "      <th>Analysis</th>\n",
              "    </tr>\n",
              "  </thead>\n",
              "  <tbody>\n",
              "    <tr>\n",
              "      <th>0</th>\n",
              "      <td>if you truly want happiness, let go of the pas...</td>\n",
              "      <td>0.191667</td>\n",
              "      <td>0.150000</td>\n",
              "      <td>1</td>\n",
              "    </tr>\n",
              "    <tr>\n",
              "      <th>1</th>\n",
              "      <td>YA ALLAH ! Give Our mothers, sisters and da...</td>\n",
              "      <td>0.433333</td>\n",
              "      <td>0.633333</td>\n",
              "      <td>1</td>\n",
              "    </tr>\n",
              "    <tr>\n",
              "      <th>2</th>\n",
              "      <td>Is it true guys? We achieved 15M!!!! I can'...</td>\n",
              "      <td>0.425000</td>\n",
              "      <td>0.864746</td>\n",
              "      <td>1</td>\n",
              "    </tr>\n",
              "    <tr>\n",
              "      <th>3</th>\n",
              "      <td>I love u so much the 1st indian celebrity w...</td>\n",
              "      <td>0.340000</td>\n",
              "      <td>0.508333</td>\n",
              "      <td>1</td>\n",
              "    </tr>\n",
              "    <tr>\n",
              "      <th>4</th>\n",
              "      <td>Is it true guys? We achieved 15M!!!! I can'...</td>\n",
              "      <td>0.425000</td>\n",
              "      <td>0.864746</td>\n",
              "      <td>1</td>\n",
              "    </tr>\n",
              "    <tr>\n",
              "      <th>...</th>\n",
              "      <td>...</td>\n",
              "      <td>...</td>\n",
              "      <td>...</td>\n",
              "      <td>...</td>\n",
              "    </tr>\n",
              "    <tr>\n",
              "      <th>2075</th>\n",
              "      <td>Is it true guys? We achieved 15M!!!! I can'...</td>\n",
              "      <td>0.425000</td>\n",
              "      <td>0.864746</td>\n",
              "      <td>1</td>\n",
              "    </tr>\n",
              "    <tr>\n",
              "      <th>2076</th>\n",
              "      <td>@_ayeshaxoxo   “MONEY CAN’ BUY HAPPINESS” IS ...</td>\n",
              "      <td>0.200000</td>\n",
              "      <td>0.875000</td>\n",
              "      <td>1</td>\n",
              "    </tr>\n",
              "    <tr>\n",
              "      <th>2077</th>\n",
              "      <td>_4Fans   Happiness is a sweet babboo 💗</td>\n",
              "      <td>0.425000</td>\n",
              "      <td>0.525000</td>\n",
              "      <td>1</td>\n",
              "    </tr>\n",
              "    <tr>\n",
              "      <th>2078</th>\n",
              "      <td>he is exactly what I said yesterday, Occupy...</td>\n",
              "      <td>0.225000</td>\n",
              "      <td>0.475000</td>\n",
              "      <td>1</td>\n",
              "    </tr>\n",
              "    <tr>\n",
              "      <th>2079</th>\n",
              "      <td>Yessssssssssss....... ears of happiness  '(...</td>\n",
              "      <td>0.200000</td>\n",
              "      <td>0.700000</td>\n",
              "      <td>1</td>\n",
              "    </tr>\n",
              "  </tbody>\n",
              "</table>\n",
              "<p>2080 rows × 4 columns</p>\n",
              "</div>"
            ],
            "text/plain": [
              "                                                  Tweet  ...  Analysis\n",
              "0     if you truly want happiness, let go of the pas...  ...         1\n",
              "1        YA ALLAH ! Give Our mothers, sisters and da...  ...         1\n",
              "2        Is it true guys? We achieved 15M!!!! I can'...  ...         1\n",
              "3        I love u so much the 1st indian celebrity w...  ...         1\n",
              "4        Is it true guys? We achieved 15M!!!! I can'...  ...         1\n",
              "...                                                 ...  ...       ...\n",
              "2075     Is it true guys? We achieved 15M!!!! I can'...  ...         1\n",
              "2076   @_ayeshaxoxo   “MONEY CAN’ BUY HAPPINESS” IS ...  ...         1\n",
              "2077            _4Fans   Happiness is a sweet babboo 💗   ...         1\n",
              "2078     he is exactly what I said yesterday, Occupy...  ...         1\n",
              "2079     Yessssssssssss....... ears of happiness  '(...  ...         1\n",
              "\n",
              "[2080 rows x 4 columns]"
            ]
          },
          "metadata": {
            "tags": []
          },
          "execution_count": 38
        }
      ]
    },
    {
      "cell_type": "code",
      "metadata": {
        "colab": {
          "base_uri": "https://localhost:8080/"
        },
        "id": "GZIDU2pW6sOT",
        "outputId": "ae90e109-398b-402f-c22b-df65d3558c1d"
      },
      "source": [
        "tweets.columns"
      ],
      "execution_count": null,
      "outputs": [
        {
          "output_type": "execute_result",
          "data": {
            "text/plain": [
              "Index(['Tweet', 'Subjectivity', 'Polarity', 'Analysis'], dtype='object')"
            ]
          },
          "metadata": {
            "tags": []
          },
          "execution_count": 39
        }
      ]
    },
    {
      "cell_type": "code",
      "metadata": {
        "id": "Hsj0Rj2q3_Qo"
      },
      "source": [
        "tweets = pd.DataFrame(tweets, columns={'Tweet', 'Subjectivity', 'Polarity', 'Analysis'})"
      ],
      "execution_count": null,
      "outputs": []
    },
    {
      "cell_type": "code",
      "metadata": {
        "id": "0FSoQ1DD7WQX"
      },
      "source": [
        "tweets.to_csv(r'C:\\Users\\Korisnik\\Desktop\\export_dataframe.csv', index=False, header=True)"
      ],
      "execution_count": null,
      "outputs": []
    },
    {
      "cell_type": "code",
      "metadata": {
        "id": "q3xm2q6XAgom"
      },
      "source": [
        "tweets.to_csv('/content/drive/My Drive/tweets.csv', index=False, header=True)"
      ],
      "execution_count": null,
      "outputs": []
    },
    {
      "cell_type": "code",
      "metadata": {
        "colab": {
          "base_uri": "https://localhost:8080/"
        },
        "id": "d2zh5xbd9vbG",
        "outputId": "0f5c78b7-0cc3-4bf1-d1b9-b765ffc68587"
      },
      "source": [
        "print(tweets)"
      ],
      "execution_count": null,
      "outputs": [
        {
          "output_type": "stream",
          "text": [
            "      Subjectivity  ...                                              Tweet\n",
            "0         0.191667  ...  if you truly want happiness, let go of the pas...\n",
            "1         0.433333  ...     YA ALLAH ! Give Our mothers, sisters and da...\n",
            "2         0.425000  ...     Is it true guys? We achieved 15M!!!! I can'...\n",
            "3         0.340000  ...     I love u so much the 1st indian celebrity w...\n",
            "4         0.425000  ...     Is it true guys? We achieved 15M!!!! I can'...\n",
            "...            ...  ...                                                ...\n",
            "2075      0.425000  ...     Is it true guys? We achieved 15M!!!! I can'...\n",
            "2076      0.200000  ...   @_ayeshaxoxo   “MONEY CAN’ BUY HAPPINESS” IS ...\n",
            "2077      0.425000  ...            _4Fans   Happiness is a sweet babboo 💗 \n",
            "2078      0.225000  ...     he is exactly what I said yesterday, Occupy...\n",
            "2079      0.200000  ...     Yessssssssssss....... ears of happiness  '(...\n",
            "\n",
            "[2080 rows x 4 columns]\n"
          ],
          "name": "stdout"
        }
      ]
    },
    {
      "cell_type": "code",
      "metadata": {
        "id": "lo5SZUU0516T"
      },
      "source": [
        ""
      ],
      "execution_count": null,
      "outputs": []
    }
  ]
}